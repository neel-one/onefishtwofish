{
  "nbformat": 4,
  "nbformat_minor": 0,
  "metadata": {
    "colab": {
      "name": "onefish.ipynb",
      "provenance": [],
      "authorship_tag": "ABX9TyNTCkB+JCZ+5hMN4JuGRE0U",
      "include_colab_link": true
    },
    "kernelspec": {
      "name": "python3",
      "display_name": "Python 3"
    },
    "language_info": {
      "name": "python"
    },
    "accelerator": "GPU"
  },
  "cells": [
    {
      "cell_type": "markdown",
      "metadata": {
        "id": "view-in-github",
        "colab_type": "text"
      },
      "source": [
        "<a href=\"https://colab.research.google.com/github/neel-one/onefishtwofish/blob/main/onefish.ipynb\" target=\"_parent\"><img src=\"https://colab.research.google.com/assets/colab-badge.svg\" alt=\"Open In Colab\"/></a>"
      ]
    },
    {
      "cell_type": "code",
      "metadata": {
        "id": "s2xGFDBKwoqx"
      },
      "source": [
        "!pip install git+git://github.com/minimaxir/textgenrnn.git"
      ],
      "execution_count": null,
      "outputs": []
    },
    {
      "cell_type": "code",
      "metadata": {
        "colab": {
          "base_uri": "https://localhost:8080/"
        },
        "id": "FUlQU6XoxU-7",
        "outputId": "c3ffa3c2-fc0e-46fd-f2fe-ffb209af9344"
      },
      "source": [
        "!wget https://raw.githubusercontent.com/robertsdionne/rwet/master/hw2/drseuss.txt"
      ],
      "execution_count": null,
      "outputs": [
        {
          "output_type": "stream",
          "name": "stdout",
          "text": [
            "--2021-10-20 22:33:16--  https://raw.githubusercontent.com/robertsdionne/rwet/master/hw2/drseuss.txt\n",
            "Resolving raw.githubusercontent.com (raw.githubusercontent.com)... 185.199.108.133, 185.199.111.133, 185.199.110.133, ...\n",
            "Connecting to raw.githubusercontent.com (raw.githubusercontent.com)|185.199.108.133|:443... connected.\n",
            "HTTP request sent, awaiting response... 200 OK\n",
            "Length: 30650 (30K) [text/plain]\n",
            "Saving to: ‘drseuss.txt’\n",
            "\n",
            "\rdrseuss.txt           0%[                    ]       0  --.-KB/s               \rdrseuss.txt         100%[===================>]  29.93K  --.-KB/s    in 0.003s  \n",
            "\n",
            "2021-10-20 22:33:17 (8.84 MB/s) - ‘drseuss.txt’ saved [30650/30650]\n",
            "\n"
          ]
        }
      ]
    },
    {
      "cell_type": "code",
      "metadata": {
        "id": "7oyv5FZV1gor"
      },
      "source": [
        "!ls"
      ],
      "execution_count": null,
      "outputs": []
    },
    {
      "cell_type": "code",
      "metadata": {
        "id": "yUZacEBew4cB"
      },
      "source": [
        "from textgenrnn import textgenrnn\n",
        "\n",
        "textgen = textgenrnn()\n",
        "textgen.train_from_file('drseuss.txt')\n",
        "textgen.generate()"
      ],
      "execution_count": null,
      "outputs": []
    },
    {
      "cell_type": "code",
      "metadata": {
        "colab": {
          "base_uri": "https://localhost:8080/"
        },
        "id": "057nMXJS45E9",
        "outputId": "27ee06e2-f94a-4062-fc52-3f4ca307fbaf"
      },
      "source": [
        "poem = textgen.generate(n=100, return_as_list=True)"
      ],
      "execution_count": null,
      "outputs": [
        {
          "output_type": "stream",
          "name": "stderr",
          "text": [
            "100%|██████████| 100/100 [01:46<00:00,  1.07s/it]\n"
          ]
        }
      ]
    },
    {
      "cell_type": "code",
      "metadata": {
        "colab": {
          "base_uri": "https://localhost:8080/"
        },
        "id": "2c7MARhh5oEJ",
        "outputId": "78f128e3-b6e3-4cc5-b39e-fcb6a9481a00"
      },
      "source": [
        "for line in poem:\n",
        "  print(line)"
      ],
      "execution_count": null,
      "outputs": [
        {
          "output_type": "stream",
          "name": "stdout",
          "text": [
            "\n",
            "Every Who down in Whoville, the tall and the small,\n",
            "My father caint to sing minute blue goon?\n",
            "When he comes in I put him out.\n",
            "I do not like this bed at all.\n",
            "You do not like\n",
            "you should get a Yink, I think.\n",
            "\"I know just what to do!\" The Grinch laughed in his throat.\n",
            "My head sticks out of bed up here!\n",
            "He should not be here\n",
            "\n",
            "...they call this a tweetle beetle bottle puddle paddle battle muddle.\n",
            "On the head of her bed!\n",
            "And the fan, and the cup,\n",
            "He said, \"Do I like this?\"\n",
            "And Sally and I did not know,\n",
            "That is not all...\n",
            "When I wish to make a wish\n",
            "Chicks with blocks come.\n",
            "\n",
            "He stared down at Whoville! The Grinch popped his eyes!\n",
            "He likes to drink, and drink, and drink.\n",
            "\n",
            "You do not like them.\n",
            "My head sticks of funny things go by.\n",
            "I would not like them\n",
            "PAT SAT Pat sat on hat.\n",
            "\n",
            "Then he stuffed all the food up the chimney with glee.\n",
            "I do not like them in a box.\n",
            "Said the cat.\n",
            "And he got her a drink and he sent her to bed.\n",
            "You will see.\n",
            "I do not like them with a fox.\n",
            "I will not eat them in a house.\n",
            "\n",
            "and the top of bad the old Grinch.\n",
            "With a tip of his hat.\n",
            "\n",
            "\"I will pick up the hook.\n",
            "Whatever the reason, His heart or his shoes,\n",
            "But I think that the most likely reason of all,\n",
            "\n",
            "\n",
            "Then he slid down the chimney. A rather tight pinch.\n",
            "\"They should not be here\n",
            "And he got her a drink and he sees and cold, what we say!\n",
            "You shook up our house\n",
            "something went BUMP!\n",
            "I do not like them with a fox\n",
            "Then he puzzled three there a train?\n",
            "\n",
            "What a shame!\n",
            "I do not like them with a fox\n",
            "When he comes in I put him out.\n",
            "\"They should not be here\n",
            "\n",
            "I do not like them in a box.\n",
            "\n",
            "Did you ever fly a kite to the chimney and star.\n",
            "When he thought up a bute!\n",
            "\n",
            "We saw those two Things\n",
            "He should not be here\n",
            "green eggs and ham.\n",
            "I do not like them in a box.\n",
            "He see them go!\n",
            "Look at me NOW!\n",
            "I do not like them in a house\n",
            "And I will eat them here and there.\n",
            "\n",
            "Then he slithered and slunk, with a bump\n",
            "On the head of her bed!\n",
            "I can hop up and down on the ball!\n",
            "Said the fish in the pot.\n",
            "So we sat ink,\n",
            "Said the fish in the pot.\n",
            "\n",
            "\n",
            "\n",
            "\"They should not be here\n",
            "Mr. Fox!\n",
            "Could you, would you,\n",
            "PAT CAT Pat sat on cat.\n",
            "I do not like them here or there.\n",
            "Fox in socks, our game is done, sir.\n",
            "I do not like them with a fox\n",
            "\"I know it is wet\n",
            "\"I know some new tricks,\"\n",
            "He stared down at Whoville! The Grinch popped his eyes!\n",
            "\n",
            "What a shame!\n",
            "Then he got up on top\n",
            "On the head of her bed!\n",
            "And I will eat them in a house.\n",
            "Then he slithered and slunk, with a smile most unpleasant,\n",
            "\"Now look at this trick,\"\n",
            "What a shame!\n",
            "But I think that they came to to take there right that if you see.\n",
            "\"Did you have any fun?\n"
          ]
        }
      ]
    }
  ]
}